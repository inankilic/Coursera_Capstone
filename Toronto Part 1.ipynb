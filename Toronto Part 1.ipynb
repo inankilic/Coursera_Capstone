{
 "cells": [
  {
   "cell_type": "markdown",
   "metadata": {},
   "source": [
    "# __Segmenting and Clustering Neighborhoods in Toronto__\n",
    "## __PART 1: Creating the dataframe from the wikipedia page__"
   ]
  },
  {
   "cell_type": "markdown",
   "metadata": {},
   "source": [
    "__Before we get the data and start exploring it, let's import the libraries that we will need.__"
   ]
  },
  {
   "cell_type": "code",
   "execution_count": 1,
   "metadata": {},
   "outputs": [],
   "source": [
    "import pandas as pd\n",
    "import numpy as np\n",
    "import requests\n",
    "from bs4 import BeautifulSoup\n",
    "\n",
    "pd.set_option('display.max_columns', None)\n",
    "pd.set_option('display.max_rows', None)"
   ]
  },
  {
   "cell_type": "markdown",
   "metadata": {},
   "source": [
    "__First, we need to download raw text  data from the wikipedia page__"
   ]
  },
  {
   "cell_type": "code",
   "execution_count": 2,
   "metadata": {},
   "outputs": [],
   "source": [
    "wikipedia_link='https://en.wikipedia.org/wiki/List_of_postal_codes_of_Canada:_M'\n",
    "raw_wikipedia_page= requests.get(wikipedia_link).text\n",
    "soup = BeautifulSoup(raw_wikipedia_page,'xml')\n",
    "# print(soup.prettify())"
   ]
  },
  {
   "cell_type": "markdown",
   "metadata": {},
   "source": [
    "__We find the the table in the page and extract the data inside__"
   ]
  },
  {
   "cell_type": "code",
   "execution_count": 3,
   "metadata": {},
   "outputs": [],
   "source": [
    "table = soup.find('table')\n",
    "# print(table)\n",
    "\n",
    "Postalcode    = []\n",
    "Borough       = []\n",
    "Neighbourhood = []\n",
    "\n",
    "for tr_cell in table.find_all('tr'):\n",
    "    counter = 1\n",
    "    P_tmp = 'inan'\n",
    "    B_tmp = 'inan'\n",
    "    N_tmp = 'inan'\n",
    "    \n",
    "    if len(tr_cell.find_all('td')) == 0:   # This is to prevent the tr without td\n",
    "        continue\n",
    "    \n",
    "    for td_cell in tr_cell.find_all('td'):\n",
    "        if counter == 1: \n",
    "            P_tmp = td_cell.text\n",
    "        elif counter == 2: \n",
    "            B_tmp = td_cell.text\n",
    "        elif counter == 3: \n",
    "            N_tmp = str(td_cell.text).strip()\n",
    "        else:\n",
    "            continue\n",
    "\n",
    "        counter +=1\n",
    "    \n",
    "    Postalcode.append(P_tmp)\n",
    "    Borough.append(B_tmp)\n",
    "    Neighbourhood.append(N_tmp)"
   ]
  },
  {
   "cell_type": "code",
   "execution_count": 4,
   "metadata": {},
   "outputs": [
    {
     "name": "stdout",
     "output_type": "stream",
     "text": [
      "The shape of the table with all Not Assigned Values:  (289, 3)\n",
      "The shape of the table without Not Assigned Values:  (212, 3)\n"
     ]
    }
   ],
   "source": [
    "df = pd.DataFrame({'Postal Code':Postalcode, 'Borough':Borough, 'Neighbourhood':Neighbourhood})\n",
    "print('The shape of the table with all Not Assigned Values: ', df.shape)\n",
    "df = df[df['Borough'] != 'Not assigned']\n",
    "print('The shape of the table without Not Assigned Values: ', df.shape)"
   ]
  },
  {
   "cell_type": "markdown",
   "metadata": {},
   "source": [
    "__The dataframe still have not assigned neighbourhood values, so wee need to copy borough values to reassign them__"
   ]
  },
  {
   "cell_type": "code",
   "execution_count": 5,
   "metadata": {},
   "outputs": [],
   "source": [
    "df['Neighbourhood'].replace('Not assigned', df['Borough'], inplace=True)\n",
    "df = df.groupby(['Postal Code','Borough'])['Neighbourhood'].agg(lambda e: ', '.join(e)).reset_index()"
   ]
  },
  {
   "cell_type": "code",
   "execution_count": 6,
   "metadata": {},
   "outputs": [
    {
     "data": {
      "text/html": [
       "<div>\n",
       "<style scoped>\n",
       "    .dataframe tbody tr th:only-of-type {\n",
       "        vertical-align: middle;\n",
       "    }\n",
       "\n",
       "    .dataframe tbody tr th {\n",
       "        vertical-align: top;\n",
       "    }\n",
       "\n",
       "    .dataframe thead th {\n",
       "        text-align: right;\n",
       "    }\n",
       "</style>\n",
       "<table border=\"1\" class=\"dataframe\">\n",
       "  <thead>\n",
       "    <tr style=\"text-align: right;\">\n",
       "      <th></th>\n",
       "      <th>Postal Code</th>\n",
       "      <th>Borough</th>\n",
       "      <th>Neighbourhood</th>\n",
       "    </tr>\n",
       "  </thead>\n",
       "  <tbody>\n",
       "    <tr>\n",
       "      <th>0</th>\n",
       "      <td>M1B</td>\n",
       "      <td>Scarborough</td>\n",
       "      <td>Rouge, Malvern</td>\n",
       "    </tr>\n",
       "    <tr>\n",
       "      <th>1</th>\n",
       "      <td>M1C</td>\n",
       "      <td>Scarborough</td>\n",
       "      <td>Highland Creek, Rouge Hill, Port Union</td>\n",
       "    </tr>\n",
       "    <tr>\n",
       "      <th>2</th>\n",
       "      <td>M1E</td>\n",
       "      <td>Scarborough</td>\n",
       "      <td>Guildwood, Morningside, West Hill</td>\n",
       "    </tr>\n",
       "    <tr>\n",
       "      <th>3</th>\n",
       "      <td>M1G</td>\n",
       "      <td>Scarborough</td>\n",
       "      <td>Woburn</td>\n",
       "    </tr>\n",
       "    <tr>\n",
       "      <th>4</th>\n",
       "      <td>M1H</td>\n",
       "      <td>Scarborough</td>\n",
       "      <td>Cedarbrae</td>\n",
       "    </tr>\n",
       "  </tbody>\n",
       "</table>\n",
       "</div>"
      ],
      "text/plain": [
       "  Postal Code      Borough                           Neighbourhood\n",
       "0         M1B  Scarborough                          Rouge, Malvern\n",
       "1         M1C  Scarborough  Highland Creek, Rouge Hill, Port Union\n",
       "2         M1E  Scarborough       Guildwood, Morningside, West Hill\n",
       "3         M1G  Scarborough                                  Woburn\n",
       "4         M1H  Scarborough                               Cedarbrae"
      ]
     },
     "execution_count": 6,
     "metadata": {},
     "output_type": "execute_result"
    }
   ],
   "source": [
    "df"
   ]
  },
  {
   "cell_type": "markdown",
   "metadata": {},
   "source": [
    "__It is easier to upload the dataframe to .csv in order to use it in other notebooks__"
   ]
  },
  {
   "cell_type": "code",
   "execution_count": 7,
   "metadata": {},
   "outputs": [],
   "source": [
    "df.to_csv('Toronto_Part_1.csv', index=False)"
   ]
  },
  {
   "cell_type": "code",
   "execution_count": 8,
   "metadata": {},
   "outputs": [
    {
     "name": "stdout",
     "output_type": "stream",
     "text": [
      "The number of rows of the dataframe is 103\n",
      "(103, 3)\n"
     ]
    }
   ],
   "source": [
    "print('The number of rows of the dataframe is', len(df))\n",
    "print(df.shape)"
   ]
  },
  {
   "cell_type": "code",
   "execution_count": null,
   "metadata": {},
   "outputs": [],
   "source": []
  }
 ],
 "metadata": {
  "kernelspec": {
   "display_name": "Python 3",
   "language": "python",
   "name": "python3"
  },
  "language_info": {
   "codemirror_mode": {
    "name": "ipython",
    "version": 3
   },
   "file_extension": ".py",
   "mimetype": "text/x-python",
   "name": "python",
   "nbconvert_exporter": "python",
   "pygments_lexer": "ipython3",
   "version": "3.6.6"
  }
 },
 "nbformat": 4,
 "nbformat_minor": 2
}
